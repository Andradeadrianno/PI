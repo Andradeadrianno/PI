{
  "nbformat": 4,
  "nbformat_minor": 0,
  "metadata": {
    "colab": {
      "name": "Semana 2 - PI ",
      "provenance": [],
      "collapsed_sections": [],
      "toc_visible": true,
      "include_colab_link": true
    },
    "kernelspec": {
      "display_name": "Python 3",
      "name": "python3"
    }
  },
  "cells": [
    {
      "cell_type": "markdown",
      "metadata": {
        "id": "view-in-github",
        "colab_type": "text"
      },
      "source": [
        "<a href=\"https://colab.research.google.com/github/Andradeadrianno/PI/blob/main/Semana_2_PI.ipynb\" target=\"_parent\"><img src=\"https://colab.research.google.com/assets/colab-badge.svg\" alt=\"Open In Colab\"/></a>"
      ]
    },
    {
      "cell_type": "markdown",
      "metadata": {
        "id": "3yGsZTixxcyd"
      },
      "source": [
        "1. "
      ]
    },
    {
      "cell_type": "code",
      "metadata": {
        "id": "Fa55yFMAxbv2",
        "colab": {
          "base_uri": "https://localhost:8080/"
        },
        "outputId": "55cc7bc6-2eb4-4c26-c786-b49370ed30b0"
      },
      "source": [
        "# trilha sonora:\n",
        "# https://www.youtube.com/watch?v=l-FxY25lYzY&list=TLPQMDUwNjIwMjGj08lFWtMOKg&index=2\n",
        "\n",
        "# função \n",
        "def calcula_menor(a, f):\n",
        "  return (((a + f) - (((a - f)**(2))**(1/2)))/(2))\n",
        "\n",
        "# MAIN\n",
        "x = -20 # definido exercicio\n",
        "\n",
        "y = float(input())\n",
        "z = float(input())\n",
        "\n",
        "aux = calcula_menor(x, y)\n",
        "resultado = calcula_menor(aux, z)\n",
        "# resultado = calcula_menor(calcula_menor(x, y), z)\n",
        "\n",
        "print(resultado)\n",
        "\n",
        "# VERIFICAR FORMATAÇÂO DO PRINT\n"
      ],
      "execution_count": null,
      "outputs": [
        {
          "output_type": "stream",
          "text": [
            "40\n",
            "23\n",
            "-20.0\n"
          ],
          "name": "stdout"
        }
      ]
    },
    {
      "cell_type": "markdown",
      "metadata": {
        "id": "Y8SFzKXvz77m"
      },
      "source": [
        "2. "
      ]
    },
    {
      "cell_type": "code",
      "metadata": {
        "id": "2zQxhDRwz84O",
        "colab": {
          "base_uri": "https://localhost:8080/"
        },
        "outputId": "a7b12e24-1012-41cc-a3d0-9d538130bf11"
      },
      "source": [
        "# trilha sonora\n",
        "# https://www.youtube.com/watch?v=Jgi1SD3r0rQ&list=TLPQMDUwNjIwMjGj08lFWtMOKg&index=3\n",
        "\n",
        "def equacao1(a, b, c):\n",
        "  return ((b**2) - (4*a*c))\n",
        "\n",
        "\n",
        "def equacao2(x, a, b, c):\n",
        "  return ((a*(x**2)) + (b*x) + c)\n",
        "\n",
        "# MAIN\n",
        "x = 3 # definido exercicio\n",
        "a = float(input())\n",
        "b = float(input())\n",
        "c = float(input())\n",
        "\n",
        "print('equacao1 = ', equacao1(a, b, c))\n",
        "print('equacao2 = ', equacao2(x, a, b, c))\n",
        "\n",
        "# SAIDA DIFERENTE DO ENUNCIADO "
      ],
      "execution_count": null,
      "outputs": [
        {
          "output_type": "stream",
          "text": [
            "-20\n",
            "12\n",
            "6\n",
            "equacao1 =  624.0\n",
            "equacao2 =  -138.0\n"
          ],
          "name": "stdout"
        }
      ]
    },
    {
      "cell_type": "markdown",
      "metadata": {
        "id": "aqpWUfJY3O0z"
      },
      "source": [
        "3."
      ]
    },
    {
      "cell_type": "code",
      "metadata": {
        "id": "3R1CHVa_3Jbj",
        "colab": {
          "base_uri": "https://localhost:8080/"
        },
        "outputId": "2a632a6d-4596-46c6-cae9-178f7d68b0db"
      },
      "source": [
        "# trilha sonora \n",
        "# https://www.youtube.com/watch?v=BAeda6kv6Qc&list=TLPQMDUwNjIwMjGj08lFWtMOKg&index=4\n",
        "\n",
        "\n",
        "def calculaComissao(vendas, percent):\n",
        "  return vendas*percent \n",
        "\n",
        "\n",
        "# MAIN\n",
        "salario_fixo = float(input())\n",
        "valor_vendas = float(input())\n",
        "\n",
        "percent_comissao = 0.08 # 8% # definido exercicio\n",
        "\n",
        "salario = salario_fixo + calculaComissao(valor_vendas, percent_comissao)\n",
        "\n",
        "print(salario)\n",
        "\n",
        "# VERIFICAR FORMATAÇÂO DO PRINT\n",
        "\n",
        "\n"
      ],
      "execution_count": null,
      "outputs": [
        {
          "output_type": "stream",
          "text": [
            "709.63\n",
            "773.17\n",
            "771.4836\n"
          ],
          "name": "stdout"
        }
      ]
    },
    {
      "cell_type": "markdown",
      "metadata": {
        "id": "rhpWdmDs4pEi"
      },
      "source": [
        "4."
      ]
    },
    {
      "cell_type": "code",
      "metadata": {
        "id": "8syLPx1B4ogd",
        "colab": {
          "base_uri": "https://localhost:8080/"
        },
        "outputId": "82fdaa9a-e965-4e9b-e6fd-0e2b7946d840"
      },
      "source": [
        "# trilha sonora \n",
        "# https://www.youtube.com/watch?v=C7JzWChGwhA&list=TLPQMDUwNjIwMjGj08lFWtMOKg&index=18\n",
        "\n",
        "\n",
        "\n",
        "def JabuticabaCoins(valor, cedulas):\n",
        "  saida = [0 for x in range(len(cedulas))]\n",
        "\n",
        "  for i in range(len(cedulas)): \n",
        "    saida[i] = valor // (cedulas[i])\n",
        "    valor = valor % (cedulas[i]) # pode usar valor %= (cedulas[i])\n",
        "\n",
        "    # caso o valor acabe o break finaliza tornando a função mais rápida \n",
        "    if valor == 0:\n",
        "      break \n",
        "\n",
        "  return saida[::-1]\n",
        "\n",
        "# MAIN\n",
        "cedulas_jabuticaba = [1, 2, 19, 21, 23] # definido exercicio\n",
        "\n",
        "entrada = int(input())\n",
        "separado = JabuticabaCoins(entrada, cedulas_jabuticaba[::-1]) # cedulas é invertido pois tem que ser do maior pro menor\n",
        "\n",
        "for i in range((len(cedulas_jabuticaba) - 1), -1, -1): \n",
        "  print('' + str(separado[i]) + ' JabuticabaCoin(s) de OZ$ ' + str(cedulas_jabuticaba[i]))\n",
        "\n",
        "# VERIFICAR FORMATAÇÂO DO PRINT\n",
        "\n",
        "\n",
        "\n"
      ],
      "execution_count": null,
      "outputs": [
        {
          "output_type": "stream",
          "text": [
            "5\n",
            "0 JabuticabaCoin(s) de OZ$ 23\n",
            "0 JabuticabaCoin(s) de OZ$ 21\n",
            "0 JabuticabaCoin(s) de OZ$ 19\n",
            "2 JabuticabaCoin(s) de OZ$ 2\n",
            "1 JabuticabaCoin(s) de OZ$ 1\n"
          ],
          "name": "stdout"
        }
      ]
    }
  ]
}