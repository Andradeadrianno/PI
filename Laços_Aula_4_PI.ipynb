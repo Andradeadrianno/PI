{
  "nbformat": 4,
  "nbformat_minor": 0,
  "metadata": {
    "colab": {
      "name": "Laços - Aula 4 PI.ipynb",
      "provenance": [],
      "authorship_tag": "ABX9TyN+AYnlkPMs8kA+WdFl/xJE",
      "include_colab_link": true
    },
    "kernelspec": {
      "name": "python3",
      "display_name": "Python 3"
    },
    "language_info": {
      "name": "python"
    }
  },
  "cells": [
    {
      "cell_type": "markdown",
      "metadata": {
        "id": "view-in-github",
        "colab_type": "text"
      },
      "source": [
        "<a href=\"https://colab.research.google.com/github/Andradeadrianno/PI/blob/main/La%C3%A7os_Aula_4_PI.ipynb\" target=\"_parent\"><img src=\"https://colab.research.google.com/assets/colab-badge.svg\" alt=\"Open In Colab\"/></a>"
      ]
    },
    {
      "cell_type": "markdown",
      "metadata": {
        "id": "0oYSiUO5QYkp"
      },
      "source": [
        "#Laços "
      ]
    },
    {
      "cell_type": "code",
      "metadata": {
        "colab": {
          "base_uri": "https://localhost:8080/"
        },
        "id": "OUCAUKlxKTLs",
        "outputId": "19d14283-cb05-4edf-c53b-00ad51588632"
      },
      "source": [
        "#Primeiro dia \n",
        "saldo = 0 \n",
        "dia = float(input(\"Digite o valor de hoje: \"))\n",
        "saldo = saldo + dia \n",
        "print(\"O seu saldo é\", saldo)\n",
        "\n",
        "#Segundo dia\n",
        "dia = float(input(\"Digite o valor de hoje: \"))\n",
        "saldo = saldo + dia \n",
        "print(\"O seu saldo é\", saldo)\n",
        "\n",
        "#Terceiro dia\n",
        "dia = float(input(\"Digite o valor de hoje: \"))\n",
        "saldo = saldo + dia \n",
        "print(\"O seu saldo é\", saldo)\n",
        "\n",
        "\n",
        "\n",
        "\n"
      ],
      "execution_count": null,
      "outputs": [
        {
          "output_type": "stream",
          "text": [
            "Digite o valor de hoje: 40\n",
            "O seu saldo é 40.0\n",
            "Digite o valor de hoje: 50\n",
            "O seu saldo é 90.0\n",
            "Digite o valor de hoje: 40\n",
            "O seu saldo é 130.0\n"
          ],
          "name": "stdout"
        }
      ]
    },
    {
      "cell_type": "markdown",
      "metadata": {
        "id": "UEb1MAwcQH6Y"
      },
      "source": [
        "\n",
        "\n",
        "#Comando for \n",
        "\n",
        "\n",
        "\n"
      ]
    },
    {
      "cell_type": "code",
      "metadata": {
        "colab": {
          "base_uri": "https://localhost:8080/"
        },
        "id": "7H3st9u8MvoX",
        "outputId": "8a784877-07bd-4c5d-f436-994c62ede39a"
      },
      "source": [
        "\n",
        "saldo = 0 \n",
        "for i in  [1,2,3,4,5]:\n",
        " dia = float(input(\"Digite o valor de hoje: \"))\n",
        " saldo = saldo + dia\n",
        " print(\"O seu saldo é\",saldo)\n"
      ],
      "execution_count": null,
      "outputs": [
        {
          "output_type": "stream",
          "text": [
            "Digite o valor de hoje: 23\n",
            "O seu saldo é 23.0\n",
            "Digite o valor de hoje: 30\n",
            "O seu saldo é 53.0\n",
            "Digite o valor de hoje: 65\n",
            "O seu saldo é 118.0\n",
            "Digite o valor de hoje: 43\n",
            "O seu saldo é 161.0\n",
            "Digite o valor de hoje: 34\n",
            "O seu saldo é 195.0\n"
          ],
          "name": "stdout"
        }
      ]
    },
    {
      "cell_type": "markdown",
      "metadata": {
        "id": "9NP0xLi3QxcH"
      },
      "source": [
        "#Muitas repetições "
      ]
    },
    {
      "cell_type": "code",
      "metadata": {
        "id": "0hAItSz7Q25M"
      },
      "source": [
        "saldo = 0 \n",
        "for i in range(1,101):\n",
        "    saldo = saldo + 10\n",
        "    print(\"O seu saldo é\",saldo)  \n",
        "\n"
      ],
      "execution_count": null,
      "outputs": []
    },
    {
      "cell_type": "code",
      "metadata": {
        "id": "19r-0nbkT77W"
      },
      "source": [
        "dias = int(input(\"Digite o número de dias: \"))\n",
        "saldo = 0\n",
        "for i in range(1,dias+1):\n",
        "  dia = float(input(\"Digite o valor de hoje: \"))\n",
        "  saldo = saldo + dia\n",
        "  print(\"O saldo é\", saldo)"
      ],
      "execution_count": null,
      "outputs": []
    },
    {
      "cell_type": "markdown",
      "metadata": {
        "id": "_kBSL7dZVSNh"
      },
      "source": [
        "#For e if \n"
      ]
    },
    {
      "cell_type": "code",
      "metadata": {
        "colab": {
          "base_uri": "https://localhost:8080/"
        },
        "id": "x3cl3HRpaPBc",
        "outputId": "0409cd2e-482b-46dc-e76d-417c04760374"
      },
      "source": [
        "dias = int(input(\"Digite o número de dias: \"))\n",
        "saldo = 0 \n",
        "for i in range(1,dias+1):\n",
        "  dia = float(input(\"Digite o valor de hoje: \"))\n",
        "  saldo = saldo + dia\n",
        "  print(\"O saldo é\",saldo)\n",
        "  if saldo < 0:\n",
        "    print( \"Alerta! o seu saldo ficou negativo!\")\n",
        "    break"
      ],
      "execution_count": null,
      "outputs": [
        {
          "output_type": "stream",
          "text": [
            "Digite o número de dias: 10\n",
            "Digite o valor de hoje: 23\n",
            "O saldo é 23.0\n",
            "Digite o valor de hoje: -24\n",
            "O saldo é -1.0\n",
            "Alerta! o seu saldo ficou negativo!\n"
          ],
          "name": "stdout"
        }
      ]
    },
    {
      "cell_type": "markdown",
      "metadata": {
        "id": "0SLE7Umtb__W"
      },
      "source": [
        "#O comando while"
      ]
    },
    {
      "cell_type": "code",
      "metadata": {
        "colab": {
          "base_uri": "https://localhost:8080/"
        },
        "id": "uRGCGRqKcHIP",
        "outputId": "b137a8dc-7955-4304-c122-5df5cd42232b"
      },
      "source": [
        "saldo = 0\n",
        "while saldo >= 0:\n",
        "  dia = float(input(\"Digite o valor de hoje: \")) \n",
        "  saldo = saldo + dia\n",
        "  print(\"O seu saldo é \", saldo)\n",
        "  if saldo < 0: \n",
        "    print(\"Alerta! O seu saldo ficou negativo!\")"
      ],
      "execution_count": null,
      "outputs": [
        {
          "output_type": "stream",
          "text": [
            "Digite o valor de hoje: 45\n",
            "O seu saldo é  45.0\n",
            "Digite o valor de hoje: 33\n",
            "O seu saldo é  78.0\n",
            "Digite o valor de hoje: 104\n",
            "O seu saldo é  182.0\n",
            "Digite o valor de hoje: -300\n",
            "O seu saldo é  -118.0\n",
            "Alerta! O seu saldo ficou negativo!\n"
          ],
          "name": "stdout"
        }
      ]
    },
    {
      "cell_type": "markdown",
      "metadata": {
        "id": "0pq2oCs0fCiN"
      },
      "source": [
        "#Laços - while com condição composta"
      ]
    },
    {
      "cell_type": "code",
      "metadata": {
        "id": "6Xrs3cbefXi0"
      },
      "source": [
        "saldo = 0 \n",
        "while saldo >= 0 and saldo < 1000:\n",
        "  dia = float(input(\"Digite o valor de hoje: \"))\n",
        "  saldo = saldo + dia\n",
        "  print(\"o seu saldo é\", saldo)\n",
        "  if saldo < 0:\n",
        "    print(\"Alerta! O seu saldo ficou negativo!\")\n",
        "  elif saldo >= 1000:\n",
        "          print(\"Parabéns! Você economizou o quanto queria\")"
      ],
      "execution_count": null,
      "outputs": []
    }
  ]
}