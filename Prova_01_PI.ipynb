{
  "nbformat": 4,
  "nbformat_minor": 0,
  "metadata": {
    "colab": {
      "name": "Prova 01 - PI ",
      "provenance": [],
      "include_colab_link": true
    },
    "kernelspec": {
      "name": "python3",
      "display_name": "Python 3"
    },
    "language_info": {
      "name": "python"
    }
  },
  "cells": [
    {
      "cell_type": "markdown",
      "metadata": {
        "id": "view-in-github",
        "colab_type": "text"
      },
      "source": [
        "<a href=\"https://colab.research.google.com/github/Andradeadrianno/PI/blob/main/Prova_01_PI.ipynb\" target=\"_parent\"><img src=\"https://colab.research.google.com/assets/colab-badge.svg\" alt=\"Open In Colab\"/></a>"
      ]
    },
    {
      "cell_type": "markdown",
      "metadata": {
        "id": "sR3Xncc0K6Bk"
      },
      "source": [
        "## Questão 1"
      ]
    },
    {
      "cell_type": "code",
      "metadata": {
        "id": "i5BZgWalxR4r"
      },
      "source": [
        "consumo_mensal = int(input())\n",
        "valor_final = 0.0\n",
        "\n",
        "if 0< consumo_mensal <=10:\n",
        "  valor_final += 21.10\n",
        "  print(f'''\n",
        "Ate 10  Minimo  21.10 21.10''')\n",
        "\n",
        "elif 11 <= consumo_mensal <=20:\n",
        "  taxa = consumo_mensal - 10\n",
        "  valor_final += 21.10 + (taxa*3.9)\n",
        "  print(f'''\n",
        "Ate 10  Minimo  21.10 21.10\n",
        "11a20   {taxa}      3.90  {taxa*3.9}''')\n",
        "\n",
        "elif 21 <= consumo_mensal <=30:\n",
        "  taxa = consumo_mensal - 20\n",
        "  valor_final += 60.1 + (taxa*8.3)\n",
        "  print(f'''\n",
        "Ate 10  Minimo  21.10 21.10\n",
        "11a20   10      3.90  39.00\n",
        "21a30   {taxa}      8.30  {taxa*8.3}''')\n",
        "\n",
        "elif 31 <= consumo_mensal <=50:\n",
        "  taxa = consumo_mensal - 30\n",
        "  valor_final += 143.1 + (taxa*9.1)\n",
        "  print(f'''\n",
        "Ate 10  Minimo  21.10 21.10\n",
        "11a20   10      3.90  39.00\n",
        "21a30   10      8.30  83.00\n",
        "31a50   {taxa}      9.10  {taxa*9.1}''')\n",
        "\n",
        "else: \n",
        "  taxa = consumo_mensal - 50\n",
        "  valor_final += 325.1 + (taxa*13.5)\n",
        "  print(f'''\n",
        "Ate 10  Minimo  21.10 21.10\n",
        "11a20   10      3.90  39.00\n",
        "21a30   10      8.30  83.00\n",
        "31a50   20      9.10  182.00\n",
        ">50     {taxa}      13.50 {taxa*13.5}''')\n",
        "\n",
        "\n",
        "print(f'''\n",
        "Consumo agua (m^3)        {consumo_mensal}\n",
        "Total agua (R$)           {valor_final}\n",
        "Total agua + Esgoto (R$)  {valor_final*2}''')\n",
        "\n",
        "print(f'''\n",
        "Desperdicio ate aquecer a agua nas torneiras/chuveiros:\n",
        "Considerando o desperdicio de agua por uso (em litros) 12\n",
        "Considerando uma tarifa de (R$) 13.50\n",
        "Considerando o uso de agua quente por dia (vezes) 16\n",
        "Desperdicio mensal em metros cubicos (m^3) 5.76\n",
        "Desperdicio mensal na conta da Sabesp (R$) 155.52''')"
      ],
      "execution_count": null,
      "outputs": []
    },
    {
      "cell_type": "markdown",
      "metadata": {
        "id": "yXFgSVn-K80O"
      },
      "source": [
        "## Questão 2"
      ]
    },
    {
      "cell_type": "code",
      "metadata": {
        "id": "FOkwIcSuK47h"
      },
      "source": [
        "while True:\n",
        "  x = int(input())\n",
        "  y = int(input())\n",
        "  if x==91 and y==10:\n",
        "    print(\"Acertou\")\n",
        "    break\n",
        "  else:\n",
        "    print(\"Errou\")"
      ],
      "execution_count": null,
      "outputs": []
    },
    {
      "cell_type": "markdown",
      "metadata": {
        "id": "SkZU50YoLnHw"
      },
      "source": [
        "## Questão 3"
      ]
    },
    {
      "cell_type": "code",
      "metadata": {
        "id": "IZFXEfmU4eYJ"
      },
      "source": [
        "soma=0\n",
        "count=0\n",
        "maior = 0\n",
        "num=0\n",
        "print_final = \"\"\n",
        "\n",
        "while num != -1:\n",
        "  num = int(input())\n",
        "  if num<0 and num != -1:\n",
        "    print_final += f'n={num}\\n'\n",
        "    print_final += \"Somente positivos!\\n\"\n",
        "  else:\n",
        "    print_final += f'n={num}\\n'\n",
        "    if num %2 !=0 and num != -1:\n",
        "      soma += num\n",
        "      count += 1\n",
        "      if maior<num:\n",
        "        maior = num\n",
        "\n",
        "print(print_final)\n",
        "print(f\"media de {count} numeros impares = {soma/count}\")\n",
        "print(f\"maior impar = {maior}\")\n"
      ],
      "execution_count": null,
      "outputs": []
    },
    {
      "cell_type": "markdown",
      "metadata": {
        "id": "E4jWTV0wPxea"
      },
      "source": [
        "## Questão 4"
      ]
    },
    {
      "cell_type": "code",
      "metadata": {
        "id": "4MziazgwPo2R"
      },
      "source": [
        "import math \n",
        "\n",
        "B = float(input())\n",
        "A = float(input())\n",
        "\n",
        "G = (1-(math.exp(-B/A)))/(2*A)\n",
        "G = round(G, 3)\n",
        "\n",
        "print(f\"G = {G}\")"
      ],
      "execution_count": null,
      "outputs": []
    },
    {
      "cell_type": "code",
      "metadata": {
        "id": "Pq-VLapWRBKR"
      },
      "source": [
        ""
      ],
      "execution_count": null,
      "outputs": []
    }
  ]
}