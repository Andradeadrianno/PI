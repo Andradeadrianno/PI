{
  "nbformat": 4,
  "nbformat_minor": 0,
  "metadata": {
    "colab": {
      "name": " lista5_ Processamento da Informação ipynb",
      "provenance": [],
      "include_colab_link": true
    },
    "kernelspec": {
      "name": "python3",
      "display_name": "Python 3"
    },
    "language_info": {
      "name": "python"
    }
  },
  "cells": [
    {
      "cell_type": "markdown",
      "metadata": {
        "id": "view-in-github",
        "colab_type": "text"
      },
      "source": [
        "<a href=\"https://colab.research.google.com/github/Andradeadrianno/PI/blob/main/lista5__Processamento_da_Informa%C3%A7%C3%A3o_ipynb.ipynb\" target=\"_parent\"><img src=\"https://colab.research.google.com/assets/colab-badge.svg\" alt=\"Open In Colab\"/></a>"
      ]
    },
    {
      "cell_type": "markdown",
      "metadata": {
        "id": "R_nqx3wV3kmV"
      },
      "source": [
        "Questao 1"
      ]
    },
    {
      "cell_type": "code",
      "metadata": {
        "id": "scrohDNN2orm"
      },
      "source": [
        "B = \"78\"\n",
        "A = input(\"\")\n",
        "total = 0\n",
        "\n",
        "for i in range(len(A)):\n",
        "  if A[i]==B[0] and A[i+1]==B[1]:\n",
        "    total += 1\n",
        "\n",
        "print(f\"O texto 78 ocorre {total} vez(es) na entrada lida.\")"
      ],
      "execution_count": null,
      "outputs": []
    },
    {
      "cell_type": "markdown",
      "metadata": {
        "id": "yp2CHI9c3mE2"
      },
      "source": [
        "Questao 2"
      ]
    },
    {
      "cell_type": "code",
      "metadata": {
        "id": "ynxIeSpU3V9P"
      },
      "source": [
        "A = input(\"\")\n",
        "B = input(\"\")\n",
        "A = A[::-1]\n",
        "B = B[::-1]\n",
        "\n",
        "concatenacao = A+\"=nDvkEEfTIi3=\"+B\n",
        "print(concatenacao)"
      ],
      "execution_count": null,
      "outputs": []
    },
    {
      "cell_type": "markdown",
      "metadata": {
        "id": "Aj-Db9XR4aUz"
      },
      "source": [
        "Questao 3"
      ]
    },
    {
      "cell_type": "code",
      "metadata": {
        "id": "v75F85Rr3yw4"
      },
      "source": [
        "A = input(\"\").replace(\" \", \"\")\n",
        "B = input(\"\").replace(\" \", \"\")\n",
        "C = []\n",
        "\n",
        "for i in range(len(B)):\n",
        "  C.append(A[i])\n",
        "  C.append(B[i])\n",
        "print(*C)\n"
      ],
      "execution_count": null,
      "outputs": []
    },
    {
      "cell_type": "markdown",
      "metadata": {
        "id": "1aDmFNOI7TZn"
      },
      "source": [
        "Questao 4"
      ]
    },
    {
      "cell_type": "code",
      "metadata": {
        "id": "79ps5i6c44w-"
      },
      "source": [
        "palavra = input(\"\")\n",
        "\n",
        "def tirar_vogais(palavra):\n",
        "  lista_vogais = [\"a\", \"e\", \"i\", \"o\", \"u\", \"A\", \"E\", \"I\", \"O\", \"U\"]\n",
        "  palavra_sem_vogal = \"\"\n",
        "  for caracter in palavra:\n",
        "    if caracter not in lista_vogais:\n",
        "      palavra_sem_vogal += caracter\n",
        "  print(palavra_sem_vogal+\"5X9ZJ\")\n",
        "\n",
        "tirar_vogais(palavra)"
      ],
      "execution_count": null,
      "outputs": []
    }
  ]
}