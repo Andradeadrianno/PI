{
  "nbformat": 4,
  "nbformat_minor": 0,
  "metadata": {
    "colab": {
      "name": "Lista 9 - Matrizes Parte II ( Processamento da Informação ).ipynb",
      "provenance": [],
      "include_colab_link": true
    },
    "kernelspec": {
      "name": "python3",
      "display_name": "Python 3"
    },
    "language_info": {
      "name": "python"
    }
  },
  "cells": [
    {
      "cell_type": "markdown",
      "metadata": {
        "id": "view-in-github",
        "colab_type": "text"
      },
      "source": [
        "<a href=\"https://colab.research.google.com/github/Andradeadrianno/PI/blob/main/Lista_9_Matrizes_Parte_II_(_Processamento_da_Informa%C3%A7%C3%A3o_).ipynb\" target=\"_parent\"><img src=\"https://colab.research.google.com/assets/colab-badge.svg\" alt=\"Open In Colab\"/></a>"
      ]
    },
    {
      "cell_type": "code",
      "metadata": {
        "id": "JpHJh4egsnuO"
      },
      "source": [
        "def par(j):\n",
        "  if j%2==0:\n",
        "    mult = mult * j\n",
        "  return mult\n",
        "\n",
        "mult = 0\n",
        "for count, i in enumerate(m[::-1]:)\n",
        "  if count==0:\n",
        "    for j in i:\n",
        "      mult = par(j)\n",
        "\n",
        "  elif count==1:\n",
        "    for j in i[1:(len(i))]:\n",
        "      mult = par(j)\n",
        "  \n",
        "  elif count ==2:\n",
        "    for j in i[2:(len(i))-1]:\n",
        "      mult = par(j)\n",
        "  \n",
        "  elif count ==3:\n",
        "    for j in i[2:(len(i))-1]:\n",
        "      mult = par(j)\n",
        "\n",
        "    \n",
        "\n",
        "  "
      ],
      "execution_count": null,
      "outputs": []
    },
    {
      "cell_type": "markdown",
      "metadata": {
        "id": "SrPYt_yj71zi"
      },
      "source": [
        "Questao 3"
      ]
    },
    {
      "cell_type": "code",
      "metadata": {
        "id": "QY2aZxXW7iF8"
      },
      "source": [
        "def lerMatriz():\n",
        "  m, ler_linha = [], input()\n",
        "  while ler_linha:\n",
        "    m.append([int(i) for i in ler_linha.split(' ') if i])\n",
        "    ler_linha = input()\n",
        "  return m\n",
        "\n",
        "m = lerMatriz()\n",
        "contagem = 0\n",
        "\n",
        "for count, i in enumerate(m):\n",
        "  if 1 in i:\n",
        "    if count==len(m)-1:\n",
        "      print(\"SIM\")\n",
        "  else:\n",
        "    print(\"NÃO\")\n",
        "    break"
      ],
      "execution_count": null,
      "outputs": []
    },
    {
      "cell_type": "markdown",
      "metadata": {
        "id": "egsxHaZj_ouH"
      },
      "source": [
        "questao 4"
      ]
    },
    {
      "cell_type": "code",
      "metadata": {
        "id": "t34qezTDvqCp"
      },
      "source": [
        "def lerMatriz():\n",
        "  m, ler_linha = [], input()\n",
        "  while ler_linha:\n",
        "    m.append([int(i) for i in ler_linha.split(' ') if i])\n",
        "    ler_linha = input()\n",
        "  return m\n",
        "\n",
        "m = lerMatriz()\n",
        "numeros = m[0]\n",
        "for count, i in enumerate(m):\n",
        "  for count2, j in enumerate(i):\n",
        "    if j in numeros:\n",
        "      if count==len(m)-1 and count2==len(numeros)-1:\n",
        "        print(\"SIM\")\n",
        "    else:\n",
        "      print(\"NÃO\")\n",
        "      break"
      ],
      "execution_count": null,
      "outputs": []
    }
  ]
}