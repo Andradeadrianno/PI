{
  "nbformat": 4,
  "nbformat_minor": 0,
  "metadata": {
    "colab": {
      "name": "Prova 2 - Processamento da Informação.ipynb",
      "provenance": [],
      "include_colab_link": true
    },
    "kernelspec": {
      "name": "python3",
      "display_name": "Python 3"
    },
    "language_info": {
      "name": "python"
    }
  },
  "cells": [
    {
      "cell_type": "markdown",
      "metadata": {
        "id": "view-in-github",
        "colab_type": "text"
      },
      "source": [
        "<a href=\"https://colab.research.google.com/github/Andradeadrianno/PI/blob/main/Prova_2_Processamento_da_Informa%C3%A7%C3%A3o.ipynb\" target=\"_parent\"><img src=\"https://colab.research.google.com/assets/colab-badge.svg\" alt=\"Open In Colab\"/></a>"
      ]
    },
    {
      "cell_type": "markdown",
      "metadata": {
        "id": "TqRFYdBvjaVk"
      },
      "source": [
        "Questão 1"
      ]
    },
    {
      "cell_type": "code",
      "metadata": {
        "id": "CBQ7ATwsdssI"
      },
      "source": [
        "def lerMatriz():\n",
        "  m, ler_linha = [], input()\n",
        "  while ler_linha:\n",
        "    m.append([int(i) for i in ler_linha.split(' ') if i])\n",
        "    ler_linha = input()\n",
        "  return m\n",
        "\n",
        "m = lerMatriz()\n",
        "\n",
        "status = ''\n",
        "\n",
        "for count, i in enumerate(m):\n",
        "  if count%2 != 0:\n",
        "    if count == 1:\n",
        "      valores_permutacao = i\n",
        "    else:\n",
        "      for j in i:\n",
        "        if j not in valores_permutacao:\n",
        "          status = 'Permutações Linhas Ímpares = NAO'\n",
        "          break\n",
        "        else:\n",
        "          status = 'Permutações Linhas Ímpares = SIM'\n",
        "\n",
        "print(status)\n",
        "      "
      ],
      "execution_count": null,
      "outputs": []
    },
    {
      "cell_type": "markdown",
      "metadata": {
        "id": "6REi2dFOjcCK"
      },
      "source": [
        "Questão 2"
      ]
    },
    {
      "cell_type": "code",
      "metadata": {
        "id": "Gs1qdGJjfbHB"
      },
      "source": [
        "dim_matriz = input()\n",
        "\n",
        "dim_matriz = dim_matriz.split(\" \")\n",
        "linha=int(dim_matriz[0].replace(\"Linha=\", \"\"))\n",
        "coluna=int(dim_matriz[1].replace(\"Coluna=\", \"\"))\n",
        "\n",
        "m = []\n",
        "index1 = 0\n",
        "valor = 0\n",
        "\n",
        "\n",
        "for i in range(linha):\n",
        "  vetor = []\n",
        "  for j in range(coluna):\n",
        "    vetor.append(0)\n",
        "  m.append(vetor)\n",
        "\n",
        "\n",
        "def horizontal(m, valor, inicio):\n",
        "  for index2 in range(inicio, coluna):\n",
        "    m[index1][index2] = valor \n",
        "    valor += 3\n",
        "  return index2, m, valor\n",
        "\n",
        "def vertical(index2, m, valor, inicio):\n",
        "  for index1 in range(inicio, linha):\n",
        "    m[index1][index2] = valor \n",
        "    valor += 3\n",
        "  return index1, m\n",
        "\n",
        "\n",
        "\n",
        "index2, m, valor = horizontal(m, valor, inicio=0)\n",
        "index1, m = vertical(index2, m, valor, inicio=1)\n",
        "index2, m, valor = horizontal(m, valor, inicio=1):\n",
        "\n",
        "print(m)\n",
        "print(index1)\n",
        "\n",
        "\n",
        "    \n",
        "    \n",
        "\n"
      ],
      "execution_count": null,
      "outputs": []
    },
    {
      "cell_type": "markdown",
      "metadata": {
        "id": "q00aqzr1qTu-"
      },
      "source": [
        "Questão 3"
      ]
    },
    {
      "cell_type": "code",
      "metadata": {
        "id": "-j7GXWonkAvM"
      },
      "source": [
        "import pandas as pd\n",
        "import numpy as np\n",
        "import statistics as s\n",
        "\n",
        "valores_totais = []\n",
        "num11e20 = 0\n",
        "num11 = 0\n",
        "num20 = 0\n",
        "count = 0\n",
        "\n",
        "while count != 100:\n",
        "  temp = int(input())\n",
        "  if temp == 91:\n",
        "    break\n",
        "  valores_totais.append(temp)\n",
        "\n",
        "try:\n",
        "  for i in valores_totais:\n",
        "    if i<11:\n",
        "      num11 += 1 \n",
        "    elif 11<=i<20:\n",
        "      num11e20 += 1\n",
        "    elif i>=20:\n",
        "      num20 += 1\n",
        "      \n",
        "  print(f\"número de dias em que a temperatura esteve abaixo de 11C = {num11}\")\n",
        "  print(f\"número de dias em que a temperatura esteve entre 11C e 20C = {num11e20}\")\n",
        "  print(f\"número de dias em que a temperatura esteve acima de 20C = {num20}\")\n",
        "  df = pd.DataFrame(valores_totais)\n",
        "  quartil = np.percentile(df, 50)  \n",
        "  num1 = \"{:.2f}\".format(s.mean(valores_totais))\n",
        "  num2 = \"{:.2f}\".format(quartil)\n",
        "  print(f\"média das temperaturas em todo o período considerado = {num1}\")\n",
        "  print(f\"temperatura do 2o quartil calculada = {num2}\")\n",
        "\n",
        "  for i in range(len(valores_totais)):\n",
        "    if valores_totais[i]>=quartil:\n",
        "      print(f\"temperatura acima do 2o quartil medida no dia {i+1} foi de {valores_totais[i]}C\")\n",
        "\n",
        "except:\n",
        "  pass\n",
        "\n",
        "\n",
        "\n"
      ],
      "execution_count": null,
      "outputs": []
    },
    {
      "cell_type": "markdown",
      "metadata": {
        "id": "Lvv-49bF19Up"
      },
      "source": [
        "Questao 4"
      ]
    },
    {
      "cell_type": "code",
      "metadata": {
        "id": "9Xfs8YaJ19-b"
      },
      "source": [
        "frase = input()\n",
        "\n",
        "abre = frase.count('{')\n",
        "fecha = frase.count('}')\n",
        "\n",
        "if abre != fecha:\n",
        "  print(\"Erro abre/fecha { e }\")\n",
        "\n",
        "else:\n",
        "  print(\"Igual abre/fecha { e }\")"
      ],
      "execution_count": null,
      "outputs": []
    },
    {
      "cell_type": "code",
      "metadata": {
        "id": "R47u1wi12mh9"
      },
      "source": [
        ""
      ],
      "execution_count": null,
      "outputs": []
    }
  ]
}