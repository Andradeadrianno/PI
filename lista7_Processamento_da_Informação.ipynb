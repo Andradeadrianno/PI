{
  "nbformat": 4,
  "nbformat_minor": 0,
  "metadata": {
    "colab": {
      "name": " lista7_Processamento da Informação.ipynb",
      "provenance": [],
      "include_colab_link": true
    },
    "kernelspec": {
      "name": "python3",
      "display_name": "Python 3"
    },
    "language_info": {
      "name": "python"
    }
  },
  "cells": [
    {
      "cell_type": "markdown",
      "metadata": {
        "id": "view-in-github",
        "colab_type": "text"
      },
      "source": [
        "<a href=\"https://colab.research.google.com/github/Andradeadrianno/PI/blob/main/lista7_Processamento_da_Informa%C3%A7%C3%A3o.ipynb\" target=\"_parent\"><img src=\"https://colab.research.google.com/assets/colab-badge.svg\" alt=\"Open In Colab\"/></a>"
      ]
    },
    {
      "cell_type": "markdown",
      "metadata": {
        "id": "Z-CoQ8ahS-5t"
      },
      "source": [
        "# Questão 1"
      ]
    },
    {
      "cell_type": "code",
      "metadata": {
        "id": "Etn-17BjSFeL"
      },
      "source": [
        "def lerMatriz():\n",
        "  m = []\n",
        "  contador = 0\n",
        "  while contador<8:\n",
        "    ler_linha = input()\n",
        "    m.append([int(i) for i in ler_linha.split(' ') if i])\n",
        "    contador += 1\n",
        "  return m\n",
        "\n",
        "m = lerMatriz()\n",
        "\n",
        "for count, linha in enumerate(m):\n",
        "  if linha[7] == 5:\n",
        "    print(count)\n",
        "    break\n",
        "\n",
        "    \n"
      ],
      "execution_count": null,
      "outputs": []
    },
    {
      "cell_type": "markdown",
      "metadata": {
        "id": "tgJ-Ah4QV4UM"
      },
      "source": [
        "# Questão 2"
      ]
    },
    {
      "cell_type": "code",
      "metadata": {
        "id": "keiljork0VUS"
      },
      "source": [
        "m = []\n",
        "contador = 0\n",
        "soma = 0\n",
        "\n",
        "while contador<4:\n",
        "  ler_linha = input()\n",
        "  m.append([int(i) for i in ler_linha.split(' ') if i])\n",
        "  contador += 1\n",
        "\n",
        "contador = 0\n",
        "\n",
        "for linha in m:\n",
        "  if linha[contador]%2==0:\n",
        "    soma += linha[contador]\n",
        "  contador += 1\n",
        "\n",
        "print(f\"multiplicação abaixo pares ={soma*-1}\")\n"
      ],
      "execution_count": null,
      "outputs": []
    },
    {
      "cell_type": "markdown",
      "metadata": {
        "id": "gp2C5XzxXZSB"
      },
      "source": [
        "# Questao 3"
      ]
    },
    {
      "cell_type": "code",
      "metadata": {
        "id": "tkeZXOCBTJRL"
      },
      "source": [
        "\n",
        "dimensoes = input()\n",
        "lista_dimensoes = dimensoes.split(\" \")\n",
        "m = []\n",
        "valor = 0\n",
        "\n",
        "for i in range(int(lista_dimensoes[0])):\n",
        "  linha = []\n",
        "  for j in range(int(lista_dimensoes[1])):\n",
        "    linha.append(valor)\n",
        "    valor += 2\n",
        "    if valor == 10:\n",
        "      valor = 1\n",
        "    if valor == 9:\n",
        "      valor = 0\n",
        "  m.append(linha)\n",
        "  valor = linha[1]\n",
        "\n",
        "for line in m:\n",
        "  print(*line)\n",
        "\n"
      ],
      "execution_count": null,
      "outputs": []
    },
    {
      "cell_type": "markdown",
      "metadata": {
        "id": "Dx5Cp8uy5yw0"
      },
      "source": [
        "# Questão 4"
      ]
    },
    {
      "cell_type": "code",
      "metadata": {
        "id": "VdHlk7M9Xc2y"
      },
      "source": [
        "contador = 0\n",
        "total_joao, total_maria = [], []\n",
        "soma_joao, soma_maria = 0, 0\n",
        "\n",
        "while contador<8:\n",
        "  ler_linha = input()\n",
        "  if contador%2==0:\n",
        "    graos_joao = [int(i) for count, i in enumerate(ler_linha.split(' ')) if count%2!=0]\n",
        "    total_joao.append(graos_joao)\n",
        "\n",
        "    graos_maria = [int(i) for count, i in enumerate(ler_linha.split(' ')) if count%2==0]\n",
        "    total_maria.append(graos_maria)\n",
        "    contador += 1\n",
        "\n",
        "  else:\n",
        "    graos_joao = [int(i) for count, i in enumerate(ler_linha.split(' ')) if count%2==0]\n",
        "    total_joao.append(graos_joao)\n",
        "\n",
        "    graos_maria = [int(i) for count, i in enumerate(ler_linha.split(' ')) if count%2!=0]\n",
        "    total_maria.append(graos_maria)\n",
        "    contador += 1\n",
        "  \n",
        "for linha in total_joao:\n",
        "  for valor in linha:\n",
        "    if valor%2==0:\n",
        "      soma_joao += valor\n",
        "\n",
        "for linha in total_maria:\n",
        "  for valor in linha:\n",
        "    if valor%2==0:\n",
        "      soma_maria += valor\n",
        "\n",
        "print(f\"soma pares na cor=3 é {soma_joao}; e na outra cor é {soma_maria}\")\n"
      ],
      "execution_count": null,
      "outputs": []
    }
  ]
}