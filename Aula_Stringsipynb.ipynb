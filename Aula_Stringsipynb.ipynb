{
  "nbformat": 4,
  "nbformat_minor": 0,
  "metadata": {
    "colab": {
      "name": "Aula Stringsipynb",
      "provenance": [],
      "authorship_tag": "ABX9TyOSX0u9Y1h0/H96h66tFtIG",
      "include_colab_link": true
    },
    "kernelspec": {
      "display_name": "Python 3",
      "name": "python3"
    },
    "language_info": {
      "name": "python"
    }
  },
  "cells": [
    {
      "cell_type": "markdown",
      "metadata": {
        "id": "view-in-github",
        "colab_type": "text"
      },
      "source": [
        "<a href=\"https://colab.research.google.com/github/Andradeadrianno/PI/blob/main/Aula_Stringsipynb.ipynb\" target=\"_parent\"><img src=\"https://colab.research.google.com/assets/colab-badge.svg\" alt=\"Open In Colab\"/></a>"
      ]
    },
    {
      "cell_type": "markdown",
      "metadata": {
        "id": "X3uuvfHtvZkJ"
      },
      "source": [
        "#Exemplos"
      ]
    },
    {
      "cell_type": "code",
      "metadata": {
        "id": "27_LiXPmveOq"
      },
      "source": [
        "while True:\n",
        "  letra = input()\n",
        "  print(\"codigo:\", ord(letra))\n",
        "\n",
        "\n",
        "\n"
      ],
      "execution_count": null,
      "outputs": []
    },
    {
      "cell_type": "code",
      "metadata": {
        "id": "Y5c2OXqn3ALg"
      },
      "source": [
        "for i in range(0, 3000):\n",
        "  print(chr(i), end=\"\")\n"
      ],
      "execution_count": null,
      "outputs": []
    },
    {
      "cell_type": "code",
      "metadata": {
        "colab": {
          "base_uri": "https://localhost:8080/",
          "height": 35
        },
        "id": "QyggKuPH5QqE",
        "outputId": "789ac30c-5176-49cd-e2b4-fc1798d2ce66"
      },
      "source": [
        "x = \"maria aparecida\"\n",
        "x.title()\n",
        "\n"
      ],
      "execution_count": null,
      "outputs": [
        {
          "output_type": "execute_result",
          "data": {
            "application/vnd.google.colaboratory.intrinsic+json": {
              "type": "string"
            },
            "text/plain": [
              "'Maria Aparecida'"
            ]
          },
          "metadata": {
            "tags": []
          },
          "execution_count": 45
        }
      ]
    },
    {
      "cell_type": "code",
      "metadata": {
        "colab": {
          "base_uri": "https://localhost:8080/",
          "height": 35
        },
        "id": "oO6F-hs9-Q7X",
        "outputId": "6ed27235-e219-4b3a-ae02-d7edff268ecc"
      },
      "source": [
        "x = \"maria aparecida\"\n",
        "x.upper()"
      ],
      "execution_count": null,
      "outputs": [
        {
          "output_type": "execute_result",
          "data": {
            "application/vnd.google.colaboratory.intrinsic+json": {
              "type": "string"
            },
            "text/plain": [
              "'MARIA APARECIDA'"
            ]
          },
          "metadata": {
            "tags": []
          },
          "execution_count": 46
        }
      ]
    },
    {
      "cell_type": "code",
      "metadata": {
        "colab": {
          "base_uri": "https://localhost:8080/"
        },
        "id": "zmvLZxMc-ZOg",
        "outputId": "63146105-b5e4-45ae-97f5-47b430676a39"
      },
      "source": [
        "\"1234567\".isdigit()"
      ],
      "execution_count": null,
      "outputs": [
        {
          "output_type": "execute_result",
          "data": {
            "text/plain": [
              "True"
            ]
          },
          "metadata": {
            "tags": []
          },
          "execution_count": 50
        }
      ]
    },
    {
      "cell_type": "code",
      "metadata": {
        "colab": {
          "base_uri": "https://localhost:8080/"
        },
        "id": "xikIMT78-vww",
        "outputId": "132309b5-9f60-41f0-d5da-26236fc46cb8"
      },
      "source": [
        "\"edssssssaw\".isdigit()"
      ],
      "execution_count": null,
      "outputs": [
        {
          "output_type": "execute_result",
          "data": {
            "text/plain": [
              "False"
            ]
          },
          "metadata": {
            "tags": []
          },
          "execution_count": 51
        }
      ]
    },
    {
      "cell_type": "code",
      "metadata": {
        "colab": {
          "base_uri": "https://localhost:8080/",
          "height": 35
        },
        "id": "gUO6KJpl_GgI",
        "outputId": "71a2d671-71d6-42c2-8f9b-35ad5758cfb2"
      },
      "source": [
        "\"Data {}/{}/{}\".format(1, 7, 2021)"
      ],
      "execution_count": null,
      "outputs": [
        {
          "output_type": "execute_result",
          "data": {
            "application/vnd.google.colaboratory.intrinsic+json": {
              "type": "string"
            },
            "text/plain": [
              "'Data 1/7/2021'"
            ]
          },
          "metadata": {
            "tags": []
          },
          "execution_count": 62
        }
      ]
    },
    {
      "cell_type": "code",
      "metadata": {
        "colab": {
          "base_uri": "https://localhost:8080/",
          "height": 35
        },
        "id": "FsausgB5ArjC",
        "outputId": "09352af6-e389-4860-8394-6fd8d809de4f"
      },
      "source": [
        "\"Preço R${:.5f}\".format(12322.23222)"
      ],
      "execution_count": null,
      "outputs": [
        {
          "output_type": "execute_result",
          "data": {
            "application/vnd.google.colaboratory.intrinsic+json": {
              "type": "string"
            },
            "text/plain": [
              "'Preço R$12322.23222'"
            ]
          },
          "metadata": {
            "tags": []
          },
          "execution_count": 63
        }
      ]
    },
    {
      "cell_type": "markdown",
      "metadata": {
        "id": "CfCAErJpBtJZ"
      },
      "source": [
        "#Operadores ==,!=,<,<=,>,>=\n"
      ]
    },
    {
      "cell_type": "code",
      "metadata": {
        "colab": {
          "base_uri": "https://localhost:8080/"
        },
        "id": "ceFzqr-tCBX6",
        "outputId": "64b0fe8d-2ab0-49e5-b055-450e1f478a40"
      },
      "source": [
        "\"aa\" < \"ab\""
      ],
      "execution_count": null,
      "outputs": [
        {
          "output_type": "execute_result",
          "data": {
            "text/plain": [
              "True"
            ]
          },
          "metadata": {
            "tags": []
          },
          "execution_count": 64
        }
      ]
    },
    {
      "cell_type": "code",
      "metadata": {
        "colab": {
          "base_uri": "https://localhost:8080/"
        },
        "id": "CSs8187fCKy6",
        "outputId": "ff176b4d-cc91-4213-8c0f-d3a76947520b"
      },
      "source": [
        "\"aa\" > \"ab\""
      ],
      "execution_count": null,
      "outputs": [
        {
          "output_type": "execute_result",
          "data": {
            "text/plain": [
              "False"
            ]
          },
          "metadata": {
            "tags": []
          },
          "execution_count": 65
        }
      ]
    },
    {
      "cell_type": "code",
      "metadata": {
        "colab": {
          "base_uri": "https://localhost:8080/"
        },
        "id": "5YHK0I5bCSXJ",
        "outputId": "007f42a4-844b-44d8-ec42-6615fddd0080"
      },
      "source": [
        "\"aa\" != \"ab\""
      ],
      "execution_count": null,
      "outputs": [
        {
          "output_type": "execute_result",
          "data": {
            "text/plain": [
              "True"
            ]
          },
          "metadata": {
            "tags": []
          },
          "execution_count": 66
        }
      ]
    },
    {
      "cell_type": "code",
      "metadata": {
        "colab": {
          "base_uri": "https://localhost:8080/"
        },
        "id": "2MkzKvgdCpQi",
        "outputId": "5a74b38d-7e28-48c5-9e94-de9389e3495f"
      },
      "source": [
        "\"aa\" == \"ab\""
      ],
      "execution_count": null,
      "outputs": [
        {
          "output_type": "execute_result",
          "data": {
            "text/plain": [
              "False"
            ]
          },
          "metadata": {
            "tags": []
          },
          "execution_count": 68
        }
      ]
    },
    {
      "cell_type": "markdown",
      "metadata": {
        "id": "-BKUdSesDDuP"
      },
      "source": [
        "#Concatenar"
      ]
    },
    {
      "cell_type": "code",
      "metadata": {
        "colab": {
          "base_uri": "https://localhost:8080/",
          "height": 35
        },
        "id": "07RL9-ijDJq8",
        "outputId": "b8e179fc-0e07-4330-8c2d-aa4e6e084ac2"
      },
      "source": [
        "\"ano\" + \"2021\""
      ],
      "execution_count": null,
      "outputs": [
        {
          "output_type": "execute_result",
          "data": {
            "application/vnd.google.colaboratory.intrinsic+json": {
              "type": "string"
            },
            "text/plain": [
              "'ano2021'"
            ]
          },
          "metadata": {
            "tags": []
          },
          "execution_count": 71
        }
      ]
    },
    {
      "cell_type": "code",
      "metadata": {
        "colab": {
          "base_uri": "https://localhost:8080/",
          "height": 35
        },
        "id": "yX4yVFsNDXHl",
        "outputId": "84277959-eafe-4e1d-bad2-1e538d21ef67"
      },
      "source": [
        "\"Processamento\" + \"da\" + \"Informação\""
      ],
      "execution_count": null,
      "outputs": [
        {
          "output_type": "execute_result",
          "data": {
            "application/vnd.google.colaboratory.intrinsic+json": {
              "type": "string"
            },
            "text/plain": [
              "'ProcessamentodaInformação'"
            ]
          },
          "metadata": {
            "tags": []
          },
          "execution_count": 72
        }
      ]
    },
    {
      "cell_type": "code",
      "metadata": {
        "colab": {
          "base_uri": "https://localhost:8080/",
          "height": 35
        },
        "id": "rrPWZcAKDidF",
        "outputId": "8f4343f7-274b-49a6-8348-061c2ce075f5"
      },
      "source": [
        "\"Processamento\" + \" da \" + \"Informação\""
      ],
      "execution_count": null,
      "outputs": [
        {
          "output_type": "execute_result",
          "data": {
            "application/vnd.google.colaboratory.intrinsic+json": {
              "type": "string"
            },
            "text/plain": [
              "'Processamento da Informação'"
            ]
          },
          "metadata": {
            "tags": []
          },
          "execution_count": 73
        }
      ]
    },
    {
      "cell_type": "markdown",
      "metadata": {
        "id": "l3TlK21bD6DL"
      },
      "source": [
        "#Opedador de multiplicação "
      ]
    },
    {
      "cell_type": "code",
      "metadata": {
        "colab": {
          "base_uri": "https://localhost:8080/",
          "height": 35
        },
        "id": "ritkVE76EAQ0",
        "outputId": "663d5df6-be23-4077-c95c-2ce5d43269e3"
      },
      "source": [
        "\"Ha\"*5"
      ],
      "execution_count": null,
      "outputs": [
        {
          "output_type": "execute_result",
          "data": {
            "application/vnd.google.colaboratory.intrinsic+json": {
              "type": "string"
            },
            "text/plain": [
              "'HaHaHaHaHa'"
            ]
          },
          "metadata": {
            "tags": []
          },
          "execution_count": 74
        }
      ]
    },
    {
      "cell_type": "code",
      "metadata": {
        "colab": {
          "base_uri": "https://localhost:8080/",
          "height": 35
        },
        "id": "hJ5STknUEGPV",
        "outputId": "d75c6f03-da2b-4ed8-dccd-ee63ddd707cf"
      },
      "source": [
        "\"K\"*12"
      ],
      "execution_count": null,
      "outputs": [
        {
          "output_type": "execute_result",
          "data": {
            "application/vnd.google.colaboratory.intrinsic+json": {
              "type": "string"
            },
            "text/plain": [
              "'KKKKKKKKKKKK'"
            ]
          },
          "metadata": {
            "tags": []
          },
          "execution_count": 75
        }
      ]
    },
    {
      "cell_type": "code",
      "metadata": {
        "colab": {
          "base_uri": "https://localhost:8080/",
          "height": 35
        },
        "id": "HmYYnNy3EMph",
        "outputId": "fd0845b0-3a7b-4688-dcdb-c32525851451"
      },
      "source": [
        "\" K \"*12\n"
      ],
      "execution_count": null,
      "outputs": [
        {
          "output_type": "execute_result",
          "data": {
            "application/vnd.google.colaboratory.intrinsic+json": {
              "type": "string"
            },
            "text/plain": [
              "' K  K  K  K  K  K  K  K  K  K  K  K '"
            ]
          },
          "metadata": {
            "tags": []
          },
          "execution_count": 76
        }
      ]
    },
    {
      "cell_type": "markdown",
      "metadata": {
        "id": "s-3yINlUGSG8"
      },
      "source": [
        "#Usando o laço: while"
      ]
    },
    {
      "cell_type": "code",
      "metadata": {
        "id": "LTUt8gjuGZ3T"
      },
      "source": [
        "S = \"Pedro, Paulo e Maria\"\n",
        "i = 0\n",
        "\n",
        "while i<len(S):\n",
        "  print(S[i])\n",
        "  i = i+1\n"
      ],
      "execution_count": null,
      "outputs": []
    },
    {
      "cell_type": "code",
      "metadata": {
        "id": "mjxxmAebHVm2"
      },
      "source": [
        "S = \"Pedro, Paulo e Maria\"\n",
        "\n",
        "for letra in S:\n",
        " print(letra)"
      ],
      "execution_count": null,
      "outputs": []
    },
    {
      "cell_type": "code",
      "metadata": {
        "id": "7sdbQUzALsIi"
      },
      "source": [
        "S = \"Pedro, Paulo e Maria\"\n",
        "\n",
        "i = len(S)-1\n",
        "\n",
        "while i>0:\n",
        "  print(S[i])\n",
        "  i = i-1"
      ],
      "execution_count": null,
      "outputs": []
    },
    {
      "cell_type": "markdown",
      "metadata": {
        "id": "mHVNaUQcN82h"
      },
      "source": [
        "#Listas/Vetores "
      ]
    },
    {
      "cell_type": "code",
      "metadata": {
        "id": "TvthsYLVOC0H"
      },
      "source": [
        "nome = \"Maria Costa da SIlva\"\n",
        "nome[4]\n",
        "\"a\"\n",
        "nome[4] = \"o\"\n"
      ],
      "execution_count": null,
      "outputs": []
    },
    {
      "cell_type": "code",
      "metadata": {
        "colab": {
          "base_uri": "https://localhost:8080/",
          "height": 35
        },
        "id": "_qcwRYaTQVRZ",
        "outputId": "84f876c4-9525-4e4e-a63c-2a1514da6a34"
      },
      "source": [
        "nome2 = nome[:4] + \"o\" + nome[5:]\n",
        "nome2"
      ],
      "execution_count": null,
      "outputs": [
        {
          "output_type": "execute_result",
          "data": {
            "application/vnd.google.colaboratory.intrinsic+json": {
              "type": "string"
            },
            "text/plain": [
              "'Mario Costa da SIlva'"
            ]
          },
          "metadata": {
            "tags": []
          },
          "execution_count": 104
        }
      ]
    }
  ]
}